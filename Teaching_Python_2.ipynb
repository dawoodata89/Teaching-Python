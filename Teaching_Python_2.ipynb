{
  "nbformat": 4,
  "nbformat_minor": 0,
  "metadata": {
    "colab": {
      "provenance": [],
      "gpuType": "T4"
    },
    "kernelspec": {
      "name": "python3",
      "display_name": "Python 3"
    },
    "language_info": {
      "name": "python"
    },
    "accelerator": "GPU"
  },
  "cells": [
    {
      "cell_type": "markdown",
      "source": [
        "# **Python Data Structures and NumPy**\n",
        "\n",
        "This notebook explores fundamental Python data structures (dictionaries and sets) and demonstrates the use of NumPy for array manipulation.\n",
        "\n",
        "# **Dictionaries**\n",
        "\n",
        "Dictionaries are versatile for storing key-value pairs.  The code demonstrates:\n",
        "\n",
        "*   Creating and printing a dictionary.\n",
        "*   Adding, modifying, and deleting key-value pairs.\n",
        "*   Checking key existence.\n",
        "*   Accessing values, keys, and items.\n",
        "*   Using dictionaries to represent tabular data.\n",
        "*   Working with nested dictionaries.\n",
        "\n",
        "\n",
        "# **Sets**\n",
        "\n",
        "Sets are unordered collections of unique elements.  The code shows:\n",
        "\n",
        "*   Creating a set.\n",
        "*   Adding and removing elements.\n",
        "*   Set operations (union, intersection, difference).\n",
        "*   Removing duplicates from a list using sets.\n",
        "\n",
        "# **NumPy Arrays**\n",
        "\n",
        "NumPy provides efficient array operations. The notebook covers:\n",
        "\n",
        "*   Creating arrays from lists.\n",
        "*   Multi-dimensional arrays.\n",
        "*   Array attributes (size, shape, data type).\n",
        "*   Array slicing and indexing.\n",
        "*   Array manipulation (reshaping, transposing, flattening).\n",
        "*   Statistical functions (sum, mean, standard deviation).\n",
        "*   Array arithmetic and matrix operations.\n",
        "*   Array concatenation.\n",
        "\n",
        "\n",
        "# **Code Examples**\n",
        "\n",
        "The notebook includes comprehensive code examples illustrating the concepts mentioned above.  These examples showcase how to use dictionaries, sets, and NumPy arrays for various data manipulation tasks."
      ],
      "metadata": {
        "id": "_0M67zCuNGpQ"
      }
    },
    {
      "cell_type": "markdown",
      "source": [
        "# **Dictionaries**"
      ],
      "metadata": {
        "id": "wTY2j7Wzhvh6"
      }
    },
    {
      "cell_type": "code",
      "execution_count": 2,
      "metadata": {
        "colab": {
          "base_uri": "https://localhost:8080/"
        },
        "id": "KvQANFWSgFL1",
        "outputId": "0ec0dab5-30b6-4902-9b89-64b38cb5abaa"
      },
      "outputs": [
        {
          "output_type": "stream",
          "name": "stdout",
          "text": [
            "{'name': 'John Wick', 'age': 13, 'employer': 'the High Table'}\n"
          ]
        }
      ],
      "source": [
        "my_dict = {'name': 'John Wick',\n",
        "           'age': 13,\n",
        "           'employer': 'the High Table'}\n",
        "\n",
        "print(my_dict)"
      ]
    },
    {
      "cell_type": "code",
      "source": [
        "my_dict['city'] = 'NYC'\n",
        "my_dict"
      ],
      "metadata": {
        "colab": {
          "base_uri": "https://localhost:8080/"
        },
        "id": "z0uLhQ3giFyt",
        "outputId": "96d57555-7b11-462e-ff10-28776ef8e722"
      },
      "execution_count": 3,
      "outputs": [
        {
          "output_type": "execute_result",
          "data": {
            "text/plain": [
              "{'name': 'John Wick', 'age': 13, 'employer': 'the High Table', 'city': 'NYC'}"
            ]
          },
          "metadata": {},
          "execution_count": 3
        }
      ]
    },
    {
      "cell_type": "code",
      "source": [
        "my_dict['age']"
      ],
      "metadata": {
        "colab": {
          "base_uri": "https://localhost:8080/"
        },
        "id": "EttE3FpdiYrf",
        "outputId": "e4558d17-139b-4228-8527-f8b6867544e3"
      },
      "execution_count": 4,
      "outputs": [
        {
          "output_type": "execute_result",
          "data": {
            "text/plain": [
              "13"
            ]
          },
          "metadata": {},
          "execution_count": 4
        }
      ]
    },
    {
      "cell_type": "code",
      "source": [
        "my_dict['new_key'] = 'New Value'\n",
        "my_dict"
      ],
      "metadata": {
        "colab": {
          "base_uri": "https://localhost:8080/"
        },
        "id": "3Q7ILhAuiaso",
        "outputId": "0d245405-6c64-4e0f-c59a-cb6ecd6102b8"
      },
      "execution_count": 5,
      "outputs": [
        {
          "output_type": "execute_result",
          "data": {
            "text/plain": [
              "{'name': 'John Wick',\n",
              " 'age': 13,\n",
              " 'employer': 'the High Table',\n",
              " 'city': 'NYC',\n",
              " 'new_key': 'New Value'}"
            ]
          },
          "metadata": {},
          "execution_count": 5
        }
      ]
    },
    {
      "cell_type": "code",
      "source": [
        "del my_dict['new_key']"
      ],
      "metadata": {
        "id": "YXWsQet6ioaV"
      },
      "execution_count": 6,
      "outputs": []
    },
    {
      "cell_type": "code",
      "source": [
        "my_dict"
      ],
      "metadata": {
        "colab": {
          "base_uri": "https://localhost:8080/"
        },
        "id": "s3zRO7rsiq22",
        "outputId": "f3e31c35-3e83-4756-e8be-3a29b533df91"
      },
      "execution_count": 7,
      "outputs": [
        {
          "output_type": "execute_result",
          "data": {
            "text/plain": [
              "{'name': 'John Wick', 'age': 13, 'employer': 'the High Table', 'city': 'NYC'}"
            ]
          },
          "metadata": {},
          "execution_count": 7
        }
      ]
    },
    {
      "cell_type": "code",
      "source": [
        "'name' in my_dict"
      ],
      "metadata": {
        "colab": {
          "base_uri": "https://localhost:8080/"
        },
        "id": "AuUmc5LFirzc",
        "outputId": "2f525347-223a-4185-cf40-d871a72b68a2"
      },
      "execution_count": 8,
      "outputs": [
        {
          "output_type": "execute_result",
          "data": {
            "text/plain": [
              "True"
            ]
          },
          "metadata": {},
          "execution_count": 8
        }
      ]
    },
    {
      "cell_type": "code",
      "source": [
        "13 in my_dict"
      ],
      "metadata": {
        "colab": {
          "base_uri": "https://localhost:8080/"
        },
        "id": "6_NeNdxCiwsR",
        "outputId": "23b4a59e-b48c-4b2c-d37b-b405da0be68c"
      },
      "execution_count": 9,
      "outputs": [
        {
          "output_type": "execute_result",
          "data": {
            "text/plain": [
              "False"
            ]
          },
          "metadata": {},
          "execution_count": 9
        }
      ]
    },
    {
      "cell_type": "code",
      "source": [
        "my_dict.values()"
      ],
      "metadata": {
        "colab": {
          "base_uri": "https://localhost:8080/"
        },
        "id": "6A6q40A8iy8B",
        "outputId": "725a9ffd-a9b6-436e-82b0-a3270169f361"
      },
      "execution_count": 11,
      "outputs": [
        {
          "output_type": "execute_result",
          "data": {
            "text/plain": [
              "dict_values(['John Wick', 13, 'the High Table', 'NYC'])"
            ]
          },
          "metadata": {},
          "execution_count": 11
        }
      ]
    },
    {
      "cell_type": "code",
      "source": [
        "13 in my_dict.values()"
      ],
      "metadata": {
        "colab": {
          "base_uri": "https://localhost:8080/"
        },
        "id": "DXZxQreGi1aF",
        "outputId": "605909a7-c089-4ed3-f36d-124ecc728e7e"
      },
      "execution_count": 12,
      "outputs": [
        {
          "output_type": "execute_result",
          "data": {
            "text/plain": [
              "True"
            ]
          },
          "metadata": {},
          "execution_count": 12
        }
      ]
    },
    {
      "cell_type": "code",
      "source": [
        "my_dict.keys()"
      ],
      "metadata": {
        "colab": {
          "base_uri": "https://localhost:8080/"
        },
        "id": "vMQStcjgi4kL",
        "outputId": "3d8bde9b-f2e9-43e7-d344-35624e924da7"
      },
      "execution_count": 13,
      "outputs": [
        {
          "output_type": "execute_result",
          "data": {
            "text/plain": [
              "dict_keys(['name', 'age', 'employer', 'city'])"
            ]
          },
          "metadata": {},
          "execution_count": 13
        }
      ]
    },
    {
      "cell_type": "code",
      "source": [
        "len(my_dict)"
      ],
      "metadata": {
        "colab": {
          "base_uri": "https://localhost:8080/"
        },
        "id": "OFmcMSG2i6I-",
        "outputId": "ec8164f3-508e-4efe-ea27-732fdb006845"
      },
      "execution_count": 14,
      "outputs": [
        {
          "output_type": "execute_result",
          "data": {
            "text/plain": [
              "4"
            ]
          },
          "metadata": {},
          "execution_count": 14
        }
      ]
    },
    {
      "cell_type": "markdown",
      "source": [
        "To get every key, value pairs of the dictionary as tuples we can use .item()"
      ],
      "metadata": {
        "id": "2C2sJU5fjTLy"
      }
    },
    {
      "cell_type": "code",
      "source": [
        "my_dict.items()"
      ],
      "metadata": {
        "colab": {
          "base_uri": "https://localhost:8080/"
        },
        "id": "7NDncTmDi-I5",
        "outputId": "b36a9b5d-7d4e-4b8c-87e7-cc22e8da003c"
      },
      "execution_count": 15,
      "outputs": [
        {
          "output_type": "execute_result",
          "data": {
            "text/plain": [
              "dict_items([('name', 'John Wick'), ('age', 13), ('employer', 'the High Table'), ('city', 'NYC')])"
            ]
          },
          "metadata": {},
          "execution_count": 15
        }
      ]
    },
    {
      "cell_type": "markdown",
      "source": [
        "Let's store tabular data in a dictionary"
      ],
      "metadata": {
        "id": "5lCPQRO_jnw6"
      }
    },
    {
      "cell_type": "code",
      "source": [
        "data = {'name': ['John Wick', 'John Grisham', 'John Travolta'],\n",
        "        'age': [13, 12, 14],\n",
        "        'city': ['NYC', 'LA', 'SF']}\n",
        "data"
      ],
      "metadata": {
        "colab": {
          "base_uri": "https://localhost:8080/"
        },
        "id": "fXEZ3j7JjdZN",
        "outputId": "07b0de40-f60d-48f1-c014-8497ed77a257"
      },
      "execution_count": 17,
      "outputs": [
        {
          "output_type": "execute_result",
          "data": {
            "text/plain": [
              "{'name': ['John Wick', 'John Grisham', 'John Travolta'],\n",
              " 'age': [13, 12, 14],\n",
              " 'city': ['NYC', 'LA', 'SF']}"
            ]
          },
          "metadata": {},
          "execution_count": 17
        }
      ]
    },
    {
      "cell_type": "markdown",
      "source": [
        "In the above, keys act as column names and values are the records in those columns"
      ],
      "metadata": {
        "id": "ZedfkqbXkEh9"
      }
    },
    {
      "cell_type": "markdown",
      "source": [
        "# **Nested Disctionaries**"
      ],
      "metadata": {
        "id": "TQyvcoaVkVDk"
      }
    },
    {
      "cell_type": "code",
      "source": [
        "nested_dict = {'dictA':{'keyA1': 'valueA1',\n",
        "                        'keyA2': 'valueA2'},\n",
        "               'dictB': {'keyB1': 'valueB1',\n",
        "                        'keyB2': 'valueB2'}}\n",
        "\n",
        "print(nested_dict)"
      ],
      "metadata": {
        "colab": {
          "base_uri": "https://localhost:8080/"
        },
        "id": "OtHQRGzqkApg",
        "outputId": "0af3a5a4-60a9-4a1b-d74f-7d0a999a7f97"
      },
      "execution_count": 18,
      "outputs": [
        {
          "output_type": "stream",
          "name": "stdout",
          "text": [
            "{'dictA': {'keyA1': 'valueA1', 'keyA2': 'valueA2'}, 'dictB': {'keyB1': 'valueB1', 'keyB2': 'valueB2'}}\n"
          ]
        }
      ]
    },
    {
      "cell_type": "code",
      "source": [
        "nested_dict['dictB']"
      ],
      "metadata": {
        "colab": {
          "base_uri": "https://localhost:8080/"
        },
        "id": "4iuiR5eqk4Fm",
        "outputId": "695ee745-c743-40a8-f551-d29bfc90a6f5"
      },
      "execution_count": 19,
      "outputs": [
        {
          "output_type": "execute_result",
          "data": {
            "text/plain": [
              "{'keyB1': 'valueB1', 'keyB2': 'valueB2'}"
            ]
          },
          "metadata": {},
          "execution_count": 19
        }
      ]
    },
    {
      "cell_type": "code",
      "source": [
        "del nested_dict['dictB']\n",
        "nested_dict"
      ],
      "metadata": {
        "colab": {
          "base_uri": "https://localhost:8080/"
        },
        "id": "WaJqt3kxk7Fz",
        "outputId": "d6d5eca7-1722-43e5-b75b-e98b3051cfd1"
      },
      "execution_count": 20,
      "outputs": [
        {
          "output_type": "execute_result",
          "data": {
            "text/plain": [
              "{'dictA': {'keyA1': 'valueA1', 'keyA2': 'valueA2'}}"
            ]
          },
          "metadata": {},
          "execution_count": 20
        }
      ]
    },
    {
      "cell_type": "markdown",
      "source": [
        "# **Sets**"
      ],
      "metadata": {
        "id": "xiM72Gt2lC-y"
      }
    },
    {
      "cell_type": "markdown",
      "source": [
        "Sets are immutable and can not contain duplicate values. We can add and removes values from a set. Sets do not support indexing"
      ],
      "metadata": {
        "id": "9G2yBxaNmh7v"
      }
    },
    {
      "cell_type": "code",
      "source": [
        "my_set = {1,2,3,4,5,6}\n",
        "my_set"
      ],
      "metadata": {
        "colab": {
          "base_uri": "https://localhost:8080/"
        },
        "id": "uFIIKGTflB-H",
        "outputId": "2fe68eec-5667-47b1-eee1-b55563aa5644"
      },
      "execution_count": 21,
      "outputs": [
        {
          "output_type": "execute_result",
          "data": {
            "text/plain": [
              "{1, 2, 3, 4, 5, 6}"
            ]
          },
          "metadata": {},
          "execution_count": 21
        }
      ]
    },
    {
      "cell_type": "code",
      "source": [
        "my_set.add(10)\n",
        "my_set"
      ],
      "metadata": {
        "colab": {
          "base_uri": "https://localhost:8080/"
        },
        "id": "BGydbD2em1Bu",
        "outputId": "a6593a81-0fe9-4591-9be3-c2313dd38afc"
      },
      "execution_count": 22,
      "outputs": [
        {
          "output_type": "execute_result",
          "data": {
            "text/plain": [
              "{1, 2, 3, 4, 5, 6, 10}"
            ]
          },
          "metadata": {},
          "execution_count": 22
        }
      ]
    },
    {
      "cell_type": "code",
      "source": [
        "my_set.remove(10)\n",
        "my_set"
      ],
      "metadata": {
        "colab": {
          "base_uri": "https://localhost:8080/"
        },
        "id": "i6yPqA-um3KP",
        "outputId": "3a6c154b-77a2-439d-f71a-337f40a83670"
      },
      "execution_count": 23,
      "outputs": [
        {
          "output_type": "execute_result",
          "data": {
            "text/plain": [
              "{1, 2, 3, 4, 5, 6}"
            ]
          },
          "metadata": {},
          "execution_count": 23
        }
      ]
    },
    {
      "cell_type": "code",
      "source": [
        "my_set.pop()"
      ],
      "metadata": {
        "colab": {
          "base_uri": "https://localhost:8080/"
        },
        "id": "vAsuyk7Em5in",
        "outputId": "80480ab2-2d39-4190-9e95-5bfe96df0117"
      },
      "execution_count": 24,
      "outputs": [
        {
          "output_type": "execute_result",
          "data": {
            "text/plain": [
              "1"
            ]
          },
          "metadata": {},
          "execution_count": 24
        }
      ]
    },
    {
      "cell_type": "code",
      "source": [
        "my_set"
      ],
      "metadata": {
        "colab": {
          "base_uri": "https://localhost:8080/"
        },
        "id": "pSkCR6ihm67v",
        "outputId": "8a483ac3-3216-4057-e52d-f7abbbe3850b"
      },
      "execution_count": 25,
      "outputs": [
        {
          "output_type": "execute_result",
          "data": {
            "text/plain": [
              "{2, 3, 4, 5, 6}"
            ]
          },
          "metadata": {},
          "execution_count": 25
        }
      ]
    },
    {
      "cell_type": "code",
      "source": [
        "del my_set(4)\n",
        "my_set"
      ],
      "metadata": {
        "colab": {
          "base_uri": "https://localhost:8080/",
          "height": 108
        },
        "id": "brpmddLvm9Cv",
        "outputId": "57f28ed8-2af8-4c91-9a7b-0adff9d6b6d6"
      },
      "execution_count": 26,
      "outputs": [
        {
          "output_type": "error",
          "ename": "SyntaxError",
          "evalue": "cannot delete function call (<ipython-input-26-126bfbc3bf4e>, line 1)",
          "traceback": [
            "\u001b[0;36m  File \u001b[0;32m\"<ipython-input-26-126bfbc3bf4e>\"\u001b[0;36m, line \u001b[0;32m1\u001b[0m\n\u001b[0;31m    del my_set(4)\u001b[0m\n\u001b[0m        ^\u001b[0m\n\u001b[0;31mSyntaxError\u001b[0m\u001b[0;31m:\u001b[0m cannot delete function call\n"
          ]
        }
      ]
    },
    {
      "cell_type": "code",
      "source": [
        "4 in my_set"
      ],
      "metadata": {
        "colab": {
          "base_uri": "https://localhost:8080/"
        },
        "id": "O_k16hrwnCRR",
        "outputId": "aa25bd54-2b49-4f20-9e78-f5b8027d8cd5"
      },
      "execution_count": 27,
      "outputs": [
        {
          "output_type": "execute_result",
          "data": {
            "text/plain": [
              "True"
            ]
          },
          "metadata": {},
          "execution_count": 27
        }
      ]
    },
    {
      "cell_type": "code",
      "source": [
        "set1 = {1,2,3,4}\n",
        "set2 = {4,5,6,7}\n",
        "set1.union(set2) # gives the union of both sets and removes duplicates"
      ],
      "metadata": {
        "colab": {
          "base_uri": "https://localhost:8080/"
        },
        "id": "gwel121nnGxo",
        "outputId": "e7ab0d90-f619-449e-f1f5-48daeea80ba6"
      },
      "execution_count": 28,
      "outputs": [
        {
          "output_type": "execute_result",
          "data": {
            "text/plain": [
              "{1, 2, 3, 4, 5, 6, 7}"
            ]
          },
          "metadata": {},
          "execution_count": 28
        }
      ]
    },
    {
      "cell_type": "code",
      "source": [
        "set1.intersection(set2)  # gives the intersection of both sets."
      ],
      "metadata": {
        "colab": {
          "base_uri": "https://localhost:8080/"
        },
        "id": "-d0gGHI9n3VR",
        "outputId": "4e6890b9-e79c-4a04-9862-54844af501ef"
      },
      "execution_count": 29,
      "outputs": [
        {
          "output_type": "execute_result",
          "data": {
            "text/plain": [
              "{4}"
            ]
          },
          "metadata": {},
          "execution_count": 29
        }
      ]
    },
    {
      "cell_type": "code",
      "source": [
        "set1.difference(set2) # gives the items of set1 that are not in set2"
      ],
      "metadata": {
        "colab": {
          "base_uri": "https://localhost:8080/"
        },
        "id": "wTJOydl8n5yn",
        "outputId": "4b5f4003-6d1e-43d5-f8f3-726c83420525"
      },
      "execution_count": 31,
      "outputs": [
        {
          "output_type": "execute_result",
          "data": {
            "text/plain": [
              "{1, 2, 3}"
            ]
          },
          "metadata": {},
          "execution_count": 31
        }
      ]
    },
    {
      "cell_type": "code",
      "source": [
        "List = [1,1,2,2,3,3,4,5,6,6,7]\n",
        "\n",
        "# a list can have duplicates so we can use sets to take care of the duplicate values.\n",
        "set(List)"
      ],
      "metadata": {
        "colab": {
          "base_uri": "https://localhost:8080/"
        },
        "id": "_Cy7vVBFoFuy",
        "outputId": "12e9738d-a839-4b0f-e670-36bbb13ffeef"
      },
      "execution_count": 33,
      "outputs": [
        {
          "output_type": "execute_result",
          "data": {
            "text/plain": [
              "{1, 2, 3, 4, 5, 6, 7}"
            ]
          },
          "metadata": {},
          "execution_count": 33
        }
      ]
    },
    {
      "cell_type": "markdown",
      "source": [
        "# **Numpy Arrays**"
      ],
      "metadata": {
        "id": "sSyd_lrupktT"
      }
    },
    {
      "cell_type": "markdown",
      "source": [
        "Numpy array is similar to a list as in it stores a sequence of values. However, there are some differences. A list is heterogeneous, meaning it can store items of different data types. Numpy array is homogeneous. Numpy arrays can be 1 dimensional like a list. They can also be 2 dimensional like a table or even more."
      ],
      "metadata": {
        "id": "chPZz-cVp74a"
      }
    },
    {
      "cell_type": "code",
      "source": [
        "import numpy as np\n",
        "\n",
        "my_list = [1,2,3,4,5]\n",
        "my_array = np.array(my_list)\n",
        "my_array"
      ],
      "metadata": {
        "colab": {
          "base_uri": "https://localhost:8080/"
        },
        "id": "Ywt5OOiJoXMG",
        "outputId": "000aa04f-5900-4f7b-a5b1-7fe9f4f4400e"
      },
      "execution_count": 3,
      "outputs": [
        {
          "output_type": "execute_result",
          "data": {
            "text/plain": [
              "array([1, 2, 3, 4, 5])"
            ]
          },
          "metadata": {},
          "execution_count": 3
        }
      ]
    },
    {
      "cell_type": "code",
      "source": [
        "another_list = [11,12,13,14,15]\n",
        "another_array = np.array([my_list, another_list])   # pass a list of lists\n",
        "another_array"
      ],
      "metadata": {
        "colab": {
          "base_uri": "https://localhost:8080/"
        },
        "id": "lTzYBvbPrHVh",
        "outputId": "60e8c41d-51dc-4821-aa8a-fd2fe71d520d"
      },
      "execution_count": 4,
      "outputs": [
        {
          "output_type": "execute_result",
          "data": {
            "text/plain": [
              "array([[ 1,  2,  3,  4,  5],\n",
              "       [11, 12, 13, 14, 15]])"
            ]
          },
          "metadata": {},
          "execution_count": 4
        }
      ]
    },
    {
      "cell_type": "code",
      "source": [
        "type(another_array)"
      ],
      "metadata": {
        "colab": {
          "base_uri": "https://localhost:8080/"
        },
        "id": "Nkbq-763rRk0",
        "outputId": "76df1744-17ae-40f4-b8f2-300df5578d52"
      },
      "execution_count": 5,
      "outputs": [
        {
          "output_type": "execute_result",
          "data": {
            "text/plain": [
              "numpy.ndarray"
            ]
          },
          "metadata": {},
          "execution_count": 5
        }
      ]
    },
    {
      "cell_type": "code",
      "source": [
        "another_array.size  # gives us the size of the array. This has 10 items"
      ],
      "metadata": {
        "colab": {
          "base_uri": "https://localhost:8080/"
        },
        "id": "vCJBLIp_sJfL",
        "outputId": "12f9ff65-ea2f-4efa-a86e-3592142f7a0b"
      },
      "execution_count": 6,
      "outputs": [
        {
          "output_type": "execute_result",
          "data": {
            "text/plain": [
              "10"
            ]
          },
          "metadata": {},
          "execution_count": 6
        }
      ]
    },
    {
      "cell_type": "code",
      "source": [
        "another_array.shape  # gives us that the array has 2 rows and 5 columns"
      ],
      "metadata": {
        "colab": {
          "base_uri": "https://localhost:8080/"
        },
        "id": "OlMy4abisNz0",
        "outputId": "8fb20363-b3c0-401f-bb3f-66e29b1572e7"
      },
      "execution_count": 7,
      "outputs": [
        {
          "output_type": "execute_result",
          "data": {
            "text/plain": [
              "(2, 5)"
            ]
          },
          "metadata": {},
          "execution_count": 7
        }
      ]
    },
    {
      "cell_type": "code",
      "source": [
        "another_array.dtype  # gives us the data type in the numpy array which in this case is integer64."
      ],
      "metadata": {
        "colab": {
          "base_uri": "https://localhost:8080/"
        },
        "id": "840_qOQbsROP",
        "outputId": "a4f0decf-0068-4897-bc3e-045183f1f42f"
      },
      "execution_count": 8,
      "outputs": [
        {
          "output_type": "execute_result",
          "data": {
            "text/plain": [
              "dtype('int64')"
            ]
          },
          "metadata": {},
          "execution_count": 8
        }
      ]
    },
    {
      "cell_type": "code",
      "source": [
        "another_array"
      ],
      "metadata": {
        "colab": {
          "base_uri": "https://localhost:8080/"
        },
        "id": "QPfSXA_AsgNq",
        "outputId": "ff10f54b-c076-4525-ddad-820bbb37e8c7"
      },
      "execution_count": 9,
      "outputs": [
        {
          "output_type": "execute_result",
          "data": {
            "text/plain": [
              "array([[ 1,  2,  3,  4,  5],\n",
              "       [11, 12, 13, 14, 15]])"
            ]
          },
          "metadata": {},
          "execution_count": 9
        }
      ]
    },
    {
      "cell_type": "markdown",
      "source": [
        "Slicing of numpy arrays"
      ],
      "metadata": {
        "id": "A9C6uq5j_N-E"
      }
    },
    {
      "cell_type": "code",
      "source": [
        "another_array[1]"
      ],
      "metadata": {
        "colab": {
          "base_uri": "https://localhost:8080/"
        },
        "id": "JkcZ-W2z_DRg",
        "outputId": "f54af41a-9ff1-4365-bd9c-8d0f409d84f5"
      },
      "execution_count": 10,
      "outputs": [
        {
          "output_type": "execute_result",
          "data": {
            "text/plain": [
              "array([11, 12, 13, 14, 15])"
            ]
          },
          "metadata": {},
          "execution_count": 10
        }
      ]
    },
    {
      "cell_type": "code",
      "source": [
        "another_array[1, 3]   # this grabs the element in row 2 and 4th element as index starts with 0"
      ],
      "metadata": {
        "colab": {
          "base_uri": "https://localhost:8080/"
        },
        "id": "LilkBa5d_LSW",
        "outputId": "2c3402d1-c344-49d1-b57e-fc3610fccd3d"
      },
      "execution_count": 13,
      "outputs": [
        {
          "output_type": "execute_result",
          "data": {
            "text/plain": [
              "np.int64(14)"
            ]
          },
          "metadata": {},
          "execution_count": 13
        }
      ]
    },
    {
      "cell_type": "code",
      "source": [
        "another_array[1, 2:]"
      ],
      "metadata": {
        "colab": {
          "base_uri": "https://localhost:8080/"
        },
        "id": "o4RfiAgd_SJ3",
        "outputId": "106b58ed-7868-4537-e20a-8e089977c052"
      },
      "execution_count": 12,
      "outputs": [
        {
          "output_type": "execute_result",
          "data": {
            "text/plain": [
              "array([13, 14, 15])"
            ]
          },
          "metadata": {},
          "execution_count": 12
        }
      ]
    },
    {
      "cell_type": "code",
      "source": [
        "another_array[::-1]   # this reverses the array just like we use it for reversing list"
      ],
      "metadata": {
        "colab": {
          "base_uri": "https://localhost:8080/"
        },
        "id": "pjzbS2Lh_XW6",
        "outputId": "9661261b-7587-4a19-8bb2-d93aa6d412d5"
      },
      "execution_count": 15,
      "outputs": [
        {
          "output_type": "execute_result",
          "data": {
            "text/plain": [
              "array([[11, 12, 13, 14, 15],\n",
              "       [ 1,  2,  3,  4,  5]])"
            ]
          },
          "metadata": {},
          "execution_count": 15
        }
      ]
    },
    {
      "cell_type": "code",
      "source": [
        "another_array[::-1, ::-1]  # this reverses the array and also reverses the elements inside each row of the array. This is called 180 degree rotation of the 2D array"
      ],
      "metadata": {
        "colab": {
          "base_uri": "https://localhost:8080/"
        },
        "id": "I88GMeTd_zRj",
        "outputId": "af9176e0-059c-4848-bee4-ed4ae0e348da"
      },
      "execution_count": 17,
      "outputs": [
        {
          "output_type": "execute_result",
          "data": {
            "text/plain": [
              "array([[15, 14, 13, 12, 11],\n",
              "       [ 5,  4,  3,  2,  1]])"
            ]
          },
          "metadata": {},
          "execution_count": 17
        }
      ]
    },
    {
      "cell_type": "code",
      "source": [
        "np.identity(5)  # this will give a square identity matrix of size 5 which means 5 rows and 5 columns. Identity matrix is always a square matrix"
      ],
      "metadata": {
        "colab": {
          "base_uri": "https://localhost:8080/"
        },
        "id": "rGyZlwki_lEw",
        "outputId": "2724cdcc-52ab-4d32-ce6e-d026c9e94bed"
      },
      "execution_count": 27,
      "outputs": [
        {
          "output_type": "execute_result",
          "data": {
            "text/plain": [
              "array([[1., 0., 0., 0., 0.],\n",
              "       [0., 1., 0., 0., 0.],\n",
              "       [0., 0., 1., 0., 0.],\n",
              "       [0., 0., 0., 1., 0.],\n",
              "       [0., 0., 0., 0., 1.]])"
            ]
          },
          "metadata": {},
          "execution_count": 27
        }
      ]
    },
    {
      "cell_type": "code",
      "source": [
        "np.identity(3)"
      ],
      "metadata": {
        "colab": {
          "base_uri": "https://localhost:8080/"
        },
        "id": "_BSiBmOcAMlA",
        "outputId": "eba3120f-7609-4abf-e5bc-98eb6c202e22"
      },
      "execution_count": 28,
      "outputs": [
        {
          "output_type": "execute_result",
          "data": {
            "text/plain": [
              "array([[1., 0., 0.],\n",
              "       [0., 1., 0.],\n",
              "       [0., 0., 1.]])"
            ]
          },
          "metadata": {},
          "execution_count": 28
        }
      ]
    },
    {
      "cell_type": "code",
      "source": [
        "np.ones([2,3])"
      ],
      "metadata": {
        "colab": {
          "base_uri": "https://localhost:8080/"
        },
        "id": "O2tcujlBAUcH",
        "outputId": "354cf27a-3ba3-4055-e98f-331a05effc7e"
      },
      "execution_count": 29,
      "outputs": [
        {
          "output_type": "execute_result",
          "data": {
            "text/plain": [
              "array([[1., 1., 1.],\n",
              "       [1., 1., 1.]])"
            ]
          },
          "metadata": {},
          "execution_count": 29
        }
      ]
    },
    {
      "cell_type": "code",
      "source": [
        "another_array"
      ],
      "metadata": {
        "colab": {
          "base_uri": "https://localhost:8080/"
        },
        "id": "7vBHrPbDAfXU",
        "outputId": "748ec7a5-4445-4ce4-efe1-6f704c59652a"
      },
      "execution_count": 30,
      "outputs": [
        {
          "output_type": "execute_result",
          "data": {
            "text/plain": [
              "array([[ 1,  2,  3,  4,  5],\n",
              "       [11, 12, 13, 14, 15]])"
            ]
          },
          "metadata": {},
          "execution_count": 30
        }
      ]
    },
    {
      "cell_type": "code",
      "source": [
        "# let's reshape this 2 by 5 array into 5 by 2\n",
        "\n",
        "another_array.reshape(5,2)"
      ],
      "metadata": {
        "colab": {
          "base_uri": "https://localhost:8080/"
        },
        "id": "OzD8FusVC_cd",
        "outputId": "fae6e953-91b4-44a6-bb28-2072a778d59f"
      },
      "execution_count": 31,
      "outputs": [
        {
          "output_type": "execute_result",
          "data": {
            "text/plain": [
              "array([[ 1,  2],\n",
              "       [ 3,  4],\n",
              "       [ 5, 11],\n",
              "       [12, 13],\n",
              "       [14, 15]])"
            ]
          },
          "metadata": {},
          "execution_count": 31
        }
      ]
    },
    {
      "cell_type": "code",
      "source": [
        "# let's look at some statistical functions on arrays\n",
        "np.sum(another_array)"
      ],
      "metadata": {
        "colab": {
          "base_uri": "https://localhost:8080/"
        },
        "id": "v_o16QMLDHfy",
        "outputId": "6e44cd4f-52d6-4afc-a96e-38f4f9435ce3"
      },
      "execution_count": 32,
      "outputs": [
        {
          "output_type": "execute_result",
          "data": {
            "text/plain": [
              "np.int64(80)"
            ]
          },
          "metadata": {},
          "execution_count": 32
        }
      ]
    },
    {
      "cell_type": "code",
      "source": [
        "np.sum(another_array, axis = 1) # this will give the sum of rows"
      ],
      "metadata": {
        "colab": {
          "base_uri": "https://localhost:8080/"
        },
        "id": "88TK_n_1DW1X",
        "outputId": "0859005d-c00a-4ebf-9277-830add79b8a5"
      },
      "execution_count": 33,
      "outputs": [
        {
          "output_type": "execute_result",
          "data": {
            "text/plain": [
              "array([15, 65])"
            ]
          },
          "metadata": {},
          "execution_count": 33
        }
      ]
    },
    {
      "cell_type": "code",
      "source": [
        "np.sum(another_array, axis = 0) # this will give the sum of each of the 5 columns"
      ],
      "metadata": {
        "colab": {
          "base_uri": "https://localhost:8080/"
        },
        "id": "F6XJ0a6iDZX_",
        "outputId": "e324dcc5-d8d0-469e-c376-774ac34bbbea"
      },
      "execution_count": 35,
      "outputs": [
        {
          "output_type": "execute_result",
          "data": {
            "text/plain": [
              "array([12, 14, 16, 18, 20])"
            ]
          },
          "metadata": {},
          "execution_count": 35
        }
      ]
    },
    {
      "cell_type": "code",
      "source": [
        "np.mean(another_array, axis =1, dtype = np.int64)"
      ],
      "metadata": {
        "colab": {
          "base_uri": "https://localhost:8080/"
        },
        "id": "HsA3k4pvDhMp",
        "outputId": "9259ab32-e0ef-4f07-a5a2-5218f92cd980"
      },
      "execution_count": 38,
      "outputs": [
        {
          "output_type": "execute_result",
          "data": {
            "text/plain": [
              "array([ 3, 13])"
            ]
          },
          "metadata": {},
          "execution_count": 38
        }
      ]
    },
    {
      "cell_type": "code",
      "source": [
        "np.std(another_array)"
      ],
      "metadata": {
        "colab": {
          "base_uri": "https://localhost:8080/"
        },
        "id": "WSkzjc_ADmK-",
        "outputId": "ee40351d-434f-42d0-e7ac-d3e256424b91"
      },
      "execution_count": 44,
      "outputs": [
        {
          "output_type": "execute_result",
          "data": {
            "text/plain": [
              "np.float64(5.196152422706632)"
            ]
          },
          "metadata": {},
          "execution_count": 44
        }
      ]
    },
    {
      "cell_type": "code",
      "source": [
        "another_array -100"
      ],
      "metadata": {
        "colab": {
          "base_uri": "https://localhost:8080/"
        },
        "id": "5K4_yQqSDwvo",
        "outputId": "eaa43851-460d-46f7-db82-9c0782de7f0f"
      },
      "execution_count": 45,
      "outputs": [
        {
          "output_type": "execute_result",
          "data": {
            "text/plain": [
              "array([[-99, -98, -97, -96, -95],\n",
              "       [-89, -88, -87, -86, -85]])"
            ]
          },
          "metadata": {},
          "execution_count": 45
        }
      ]
    },
    {
      "cell_type": "code",
      "source": [
        "another_array / 2"
      ],
      "metadata": {
        "colab": {
          "base_uri": "https://localhost:8080/"
        },
        "id": "bCRKzRqIEApc",
        "outputId": "57b1ea2e-ef82-457d-af6f-5ad09dd9da24"
      },
      "execution_count": 46,
      "outputs": [
        {
          "output_type": "execute_result",
          "data": {
            "text/plain": [
              "array([[0.5, 1. , 1.5, 2. , 2.5],\n",
              "       [5.5, 6. , 6.5, 7. , 7.5]])"
            ]
          },
          "metadata": {},
          "execution_count": 46
        }
      ]
    },
    {
      "cell_type": "code",
      "source": [
        "another_array.T  # transpose the matrix"
      ],
      "metadata": {
        "colab": {
          "base_uri": "https://localhost:8080/"
        },
        "id": "-69wtWCrEDOF",
        "outputId": "f7e505df-e3c6-41b2-e95d-cb6fd2ece687"
      },
      "execution_count": 48,
      "outputs": [
        {
          "output_type": "execute_result",
          "data": {
            "text/plain": [
              "array([[ 1, 11],\n",
              "       [ 2, 12],\n",
              "       [ 3, 13],\n",
              "       [ 4, 14],\n",
              "       [ 5, 15]])"
            ]
          },
          "metadata": {},
          "execution_count": 48
        }
      ]
    },
    {
      "cell_type": "code",
      "source": [
        "# let's change the matrix into a one dimensional array. Let's make it flat\n",
        "\n",
        "another_array.flatten()"
      ],
      "metadata": {
        "colab": {
          "base_uri": "https://localhost:8080/"
        },
        "id": "UemHvb8cEFwW",
        "outputId": "850897c0-5668-4e27-cc40-722a017ca5cc"
      },
      "execution_count": 52,
      "outputs": [
        {
          "output_type": "execute_result",
          "data": {
            "text/plain": [
              "array([ 1,  2,  3,  4,  5, 11, 12, 13, 14, 15])"
            ]
          },
          "metadata": {},
          "execution_count": 52
        }
      ]
    },
    {
      "cell_type": "code",
      "source": [
        "column_array = another_array.flatten().T  # this made the 2D array into a 1D array which has 1 column."
      ],
      "metadata": {
        "id": "EUnslFRYE8V3"
      },
      "execution_count": 54,
      "outputs": []
    },
    {
      "cell_type": "code",
      "source": [
        "column_array.shape"
      ],
      "metadata": {
        "colab": {
          "base_uri": "https://localhost:8080/"
        },
        "id": "HfUlzucJFKy6",
        "outputId": "808844cc-0803-468f-f234-d393dac76622"
      },
      "execution_count": 55,
      "outputs": [
        {
          "output_type": "execute_result",
          "data": {
            "text/plain": [
              "(10,)"
            ]
          },
          "metadata": {},
          "execution_count": 55
        }
      ]
    },
    {
      "cell_type": "code",
      "source": [
        "# let's do some concatenation of 3 arrays\n",
        "array1 = np.array([[1,2,3], [3,4,5], [5,6,7]])\n",
        "array2 = np.array([[11,12,13], [13,14,15], [15,16,17]])\n",
        "array3 = np.array([[21,22,23], [23,24,25], [25,26,27]])"
      ],
      "metadata": {
        "id": "MSYU1uUcFPWr"
      },
      "execution_count": 58,
      "outputs": []
    },
    {
      "cell_type": "code",
      "source": [
        "np.concatenate([array1, array2, array3], axis = 1) # this concatenates the arrays along rows"
      ],
      "metadata": {
        "colab": {
          "base_uri": "https://localhost:8080/"
        },
        "id": "bXE2p2aDF1CI",
        "outputId": "7c62a821-6a59-42e9-f95e-94617d41a74c"
      },
      "execution_count": 61,
      "outputs": [
        {
          "output_type": "execute_result",
          "data": {
            "text/plain": [
              "array([[ 1,  2,  3, 11, 12, 13, 21, 22, 23],\n",
              "       [ 3,  4,  5, 13, 14, 15, 23, 24, 25],\n",
              "       [ 5,  6,  7, 15, 16, 17, 25, 26, 27]])"
            ]
          },
          "metadata": {},
          "execution_count": 61
        }
      ]
    },
    {
      "cell_type": "code",
      "source": [
        "np.concatenate([array1, array2, array3], axis = 0) # this will conctenate them along columns"
      ],
      "metadata": {
        "colab": {
          "base_uri": "https://localhost:8080/"
        },
        "id": "VFLn6SDUGNVG",
        "outputId": "c36c2dc7-f4d1-435c-9d1f-c7466100990b"
      },
      "execution_count": 62,
      "outputs": [
        {
          "output_type": "execute_result",
          "data": {
            "text/plain": [
              "array([[ 1,  2,  3],\n",
              "       [ 3,  4,  5],\n",
              "       [ 5,  6,  7],\n",
              "       [11, 12, 13],\n",
              "       [13, 14, 15],\n",
              "       [15, 16, 17],\n",
              "       [21, 22, 23],\n",
              "       [23, 24, 25],\n",
              "       [25, 26, 27]])"
            ]
          },
          "metadata": {},
          "execution_count": 62
        }
      ]
    },
    {
      "cell_type": "code",
      "source": [
        "another_array % 2 # shows which numbers are even and which are odd"
      ],
      "metadata": {
        "colab": {
          "base_uri": "https://localhost:8080/"
        },
        "id": "vN2Snx6IG2fy",
        "outputId": "343f71d2-3ada-4bc3-963b-f1896ba4e074"
      },
      "execution_count": 65,
      "outputs": [
        {
          "output_type": "execute_result",
          "data": {
            "text/plain": [
              "array([[1, 0, 1, 0, 1],\n",
              "       [1, 0, 1, 0, 1]])"
            ]
          },
          "metadata": {},
          "execution_count": 65
        }
      ]
    },
    {
      "cell_type": "code",
      "source": [
        "array1 + array2 + array3"
      ],
      "metadata": {
        "colab": {
          "base_uri": "https://localhost:8080/"
        },
        "id": "K1HMW3A8HEmt",
        "outputId": "8e60b1ad-48bc-4bc4-c85a-1f9ab8df13b4"
      },
      "execution_count": 66,
      "outputs": [
        {
          "output_type": "execute_result",
          "data": {
            "text/plain": [
              "array([[33, 36, 39],\n",
              "       [39, 42, 45],\n",
              "       [45, 48, 51]])"
            ]
          },
          "metadata": {},
          "execution_count": 66
        }
      ]
    },
    {
      "cell_type": "code",
      "source": [
        "array1 - array2 - array3"
      ],
      "metadata": {
        "colab": {
          "base_uri": "https://localhost:8080/"
        },
        "id": "fRpcXUB9HOdX",
        "outputId": "8bec9e29-3a32-4dc8-9f95-31b501e24b78"
      },
      "execution_count": 67,
      "outputs": [
        {
          "output_type": "execute_result",
          "data": {
            "text/plain": [
              "array([[-31, -32, -33],\n",
              "       [-33, -34, -35],\n",
              "       [-35, -36, -37]])"
            ]
          },
          "metadata": {},
          "execution_count": 67
        }
      ]
    },
    {
      "cell_type": "code",
      "source": [
        "array1 * array2"
      ],
      "metadata": {
        "colab": {
          "base_uri": "https://localhost:8080/"
        },
        "id": "h3vUgOgnHQ-D",
        "outputId": "e00692a9-03db-4f93-c1d1-4f8a0cf42307"
      },
      "execution_count": 68,
      "outputs": [
        {
          "output_type": "execute_result",
          "data": {
            "text/plain": [
              "array([[ 11,  24,  39],\n",
              "       [ 39,  56,  75],\n",
              "       [ 75,  96, 119]])"
            ]
          },
          "metadata": {},
          "execution_count": 68
        }
      ]
    },
    {
      "cell_type": "code",
      "source": [
        "np.dot(array1, array2)"
      ],
      "metadata": {
        "colab": {
          "base_uri": "https://localhost:8080/"
        },
        "id": "gUCvxGyAHnLW",
        "outputId": "78d75b9c-27be-44e3-80e1-612f8eca8f97"
      },
      "execution_count": 69,
      "outputs": [
        {
          "output_type": "execute_result",
          "data": {
            "text/plain": [
              "array([[ 82,  88,  94],\n",
              "       [160, 172, 184],\n",
              "       [238, 256, 274]])"
            ]
          },
          "metadata": {},
          "execution_count": 69
        }
      ]
    }
  ]
}