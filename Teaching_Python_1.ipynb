{
  "nbformat": 4,
  "nbformat_minor": 0,
  "metadata": {
    "colab": {
      "provenance": [],
      "gpuType": "T4"
    },
    "kernelspec": {
      "name": "python3",
      "display_name": "Python 3"
    },
    "language_info": {
      "name": "python"
    },
    "accelerator": "GPU"
  },
  "cells": [
    {
      "cell_type": "markdown",
      "source": [
        "# **Python List, Tuple and String Manipulation**\n",
        "\n",
        "This notebook demonstrates basic operations on lists, tuples, and strings in Python.  It covers topics such as:\n",
        "\n",
        "* **List Creation and Manipulation:** Creating empty and populated lists, appending and removing elements, list concatenation, extending lists, finding maximum and sum of list elements, calculating mean.\n",
        "* **List Membership and Operations:** Checking for element presence, counting occurrences, reversing and sorting lists.\n",
        "* **List Indexing and Slicing:** Accessing elements using index and slicing techniques, including steps and negative indices.  Modification of list slices.\n",
        "* **Nested Lists:** Creating and accessing elements in nested lists.\n",
        "* **List Deletion:** Using `del` and `.pop()` to remove list elements.\n",
        "* **Shallow vs. Deep Copy:** Demonstrating the difference between shallow and deep copies of lists, and using the `copy.deepcopy()` method.\n",
        "* **Tuple Creation and Manipulation:** Creating tuples from lists and other tuples, indexing, slicing.  Demonstration of immutability.\n",
        "* **String Manipulation:** Basic string operations like indexing, slicing, length calculation, case conversion, counting substrings, finding substring indices, string replacement, concatenation.  String formatting with the `.format()` method.  String stripping with `lstrip()`, `rstrip()`, and `strip()`. Splitting strings using `split()`.\n",
        "\n",
        "\n",
        "# **Code Examples**\n",
        "\n",
        "The notebook includes numerous code examples that illustrate each concept. Examples include:\n",
        "\n",
        "* Creating lists with various data types.\n",
        "* Modifying lists by adding and removing items.\n",
        "* Using list methods like `reverse()`, `sort()`, `count()`, and `extend()`.\n",
        "* Demonstrating the difference between shallow and deep copies with practical scenarios.\n",
        "* Manipulating tuples including indexing and attempts at modifying their elements (to illustrate immutability).\n",
        "* Performing various operations on strings, such as indexing, slicing, counting characters, case conversion, and string formatting.\n",
        "\n",
        "# **Getting Started**\n",
        "\n",
        "1. **Environment Setup:** This notebook requires a Python environment with basic libraries. A Google Colab or Jupyter Notebook environment is ideal.\n",
        "\n",
        "\n",
        "## Usage\n",
        "\n",
        "Execute each cell of code to see the output and follow along with the examples.  Feel free to modify the code and experiment."
      ],
      "metadata": {
        "id": "AhTk7QAxCJK2"
      }
    },
    {
      "cell_type": "code",
      "execution_count": 15,
      "metadata": {
        "colab": {
          "base_uri": "https://localhost:8080/"
        },
        "id": "ryHU7sWugK6a",
        "outputId": "a78dee42-2436-4794-852d-bef3dc0ab840"
      },
      "outputs": [
        {
          "output_type": "stream",
          "name": "stdout",
          "text": [
            "[1, 'lesson', 34, True]\n"
          ]
        }
      ],
      "source": [
        "my_list = [1, \"lesson\", 34, True]\n",
        "print(my_list)"
      ]
    },
    {
      "cell_type": "code",
      "source": [
        "string = \"How are you?\"\n",
        "str_list = list(string)\n",
        "print(str_list)"
      ],
      "metadata": {
        "colab": {
          "base_uri": "https://localhost:8080/"
        },
        "id": "togXIUR5gYoW",
        "outputId": "9bd8072a-3f64-416e-dc5d-e76d1648c524"
      },
      "execution_count": 16,
      "outputs": [
        {
          "output_type": "stream",
          "name": "stdout",
          "text": [
            "['H', 'o', 'w', ' ', 'a', 'r', 'e', ' ', 'y', 'o', 'u', '?']\n"
          ]
        }
      ]
    },
    {
      "cell_type": "code",
      "source": [
        "empty_list = []\n",
        "print(empty_list)"
      ],
      "metadata": {
        "colab": {
          "base_uri": "https://localhost:8080/"
        },
        "id": "BBUhJB8Igu-e",
        "outputId": "0a0c18fd-a9b0-40a0-ec4b-51e4d24ea8e2"
      },
      "execution_count": 17,
      "outputs": [
        {
          "output_type": "stream",
          "name": "stdout",
          "text": [
            "[]\n"
          ]
        }
      ]
    },
    {
      "cell_type": "code",
      "source": [
        "empty_list.append(\"I am good\")\n",
        "print(empty_list)"
      ],
      "metadata": {
        "colab": {
          "base_uri": "https://localhost:8080/"
        },
        "id": "g6Qq6mp1g2xP",
        "outputId": "5d3471dd-2198-4ff1-d46a-583fafdd0b0d"
      },
      "execution_count": 18,
      "outputs": [
        {
          "output_type": "stream",
          "name": "stdout",
          "text": [
            "['I am good']\n"
          ]
        }
      ]
    },
    {
      "cell_type": "code",
      "source": [
        "empty_list.remove(\"I am good\")\n",
        "empty_list"
      ],
      "metadata": {
        "colab": {
          "base_uri": "https://localhost:8080/"
        },
        "id": "HDTtyZZMg-hU",
        "outputId": "9f69a315-3801-4434-dcf7-77e2df574821"
      },
      "execution_count": 7,
      "outputs": [
        {
          "output_type": "execute_result",
          "data": {
            "text/plain": [
              "['I am good']"
            ]
          },
          "metadata": {},
          "execution_count": 7
        }
      ]
    },
    {
      "cell_type": "code",
      "source": [
        "combined_list = my_list + str_list\n",
        "print(combined_list)"
      ],
      "metadata": {
        "colab": {
          "base_uri": "https://localhost:8080/"
        },
        "id": "pOAaOntahIU1",
        "outputId": "6d336c60-42d8-41a1-f0b9-48b8d00036d9"
      },
      "execution_count": 19,
      "outputs": [
        {
          "output_type": "stream",
          "name": "stdout",
          "text": [
            "[1, 'lesson', 34, True, 'H', 'o', 'w', ' ', 'a', 'r', 'e', ' ', 'y', 'o', 'u', '?']\n"
          ]
        }
      ]
    },
    {
      "cell_type": "code",
      "source": [
        "my_list"
      ],
      "metadata": {
        "colab": {
          "base_uri": "https://localhost:8080/"
        },
        "id": "RL1KCCehiaqR",
        "outputId": "bd5cc536-4a9d-411b-a615-8b038b56317e"
      },
      "execution_count": 20,
      "outputs": [
        {
          "output_type": "execute_result",
          "data": {
            "text/plain": [
              "[1, 'lesson', 34, True]"
            ]
          },
          "metadata": {},
          "execution_count": 20
        }
      ]
    },
    {
      "cell_type": "code",
      "source": [
        "combined_list_1 = my_list"
      ],
      "metadata": {
        "id": "Gs5PeNw7ho1N"
      },
      "execution_count": 21,
      "outputs": []
    },
    {
      "cell_type": "code",
      "source": [
        "combined_list_1.extend(str_list)"
      ],
      "metadata": {
        "id": "f4xqjyHeiCUX"
      },
      "execution_count": 22,
      "outputs": []
    },
    {
      "cell_type": "code",
      "source": [
        "print(combined_list_1)"
      ],
      "metadata": {
        "colab": {
          "base_uri": "https://localhost:8080/"
        },
        "id": "vFsVhyBOiOnJ",
        "outputId": "493a8b69-4b82-4500-c7b3-cccdaa5f9fe3"
      },
      "execution_count": 23,
      "outputs": [
        {
          "output_type": "stream",
          "name": "stdout",
          "text": [
            "[1, 'lesson', 34, True, 'H', 'o', 'w', ' ', 'a', 'r', 'e', ' ', 'y', 'o', 'u', '?']\n"
          ]
        }
      ]
    },
    {
      "cell_type": "code",
      "source": [
        "num_list = [1,2,3,4,5,6,7,8,9,10]\n",
        "print(num_list)"
      ],
      "metadata": {
        "colab": {
          "base_uri": "https://localhost:8080/"
        },
        "id": "cFn--gtPiox5",
        "outputId": "97c7f3ec-f877-48b7-f9fb-156105012d9c"
      },
      "execution_count": 25,
      "outputs": [
        {
          "output_type": "stream",
          "name": "stdout",
          "text": [
            "[1, 2, 3, 4, 5, 6, 7, 8, 9, 10]\n"
          ]
        }
      ]
    },
    {
      "cell_type": "code",
      "source": [
        "max(num_list)"
      ],
      "metadata": {
        "colab": {
          "base_uri": "https://localhost:8080/"
        },
        "id": "DMzpYCFai6_y",
        "outputId": "7b8f5898-86fc-44fa-f364-809ef3ce5288"
      },
      "execution_count": 26,
      "outputs": [
        {
          "output_type": "execute_result",
          "data": {
            "text/plain": [
              "10"
            ]
          },
          "metadata": {},
          "execution_count": 26
        }
      ]
    },
    {
      "cell_type": "code",
      "source": [
        "sum(num_list)"
      ],
      "metadata": {
        "colab": {
          "base_uri": "https://localhost:8080/"
        },
        "id": "okE2y1UajAr7",
        "outputId": "e48bbe13-5385-41bd-bede-737997e3799e"
      },
      "execution_count": 27,
      "outputs": [
        {
          "output_type": "execute_result",
          "data": {
            "text/plain": [
              "55"
            ]
          },
          "metadata": {},
          "execution_count": 27
        }
      ]
    },
    {
      "cell_type": "code",
      "source": [
        "mean = sum(num_list) / len(num_list)\n",
        "mean"
      ],
      "metadata": {
        "colab": {
          "base_uri": "https://localhost:8080/"
        },
        "id": "FGVxVHLlkfFs",
        "outputId": "66f82322-0d11-410e-8284-9abbbb32d341"
      },
      "execution_count": 34,
      "outputs": [
        {
          "output_type": "execute_result",
          "data": {
            "text/plain": [
              "5.5"
            ]
          },
          "metadata": {},
          "execution_count": 34
        }
      ]
    },
    {
      "cell_type": "markdown",
      "source": [
        "# **Check membership in a list**"
      ],
      "metadata": {
        "id": "4M64AqQejOED"
      }
    },
    {
      "cell_type": "code",
      "source": [
        "1 in num_list"
      ],
      "metadata": {
        "colab": {
          "base_uri": "https://localhost:8080/"
        },
        "id": "rqzSFQqXjENB",
        "outputId": "6eba238d-6925-4288-dd15-c271a2a03dc4"
      },
      "execution_count": 28,
      "outputs": [
        {
          "output_type": "execute_result",
          "data": {
            "text/plain": [
              "True"
            ]
          },
          "metadata": {},
          "execution_count": 28
        }
      ]
    },
    {
      "cell_type": "code",
      "source": [
        "1 not in num_list"
      ],
      "metadata": {
        "colab": {
          "base_uri": "https://localhost:8080/"
        },
        "id": "KmCwKC6MjVwC",
        "outputId": "bbbc8572-bd75-4306-e479-f5595103952a"
      },
      "execution_count": 29,
      "outputs": [
        {
          "output_type": "execute_result",
          "data": {
            "text/plain": [
              "False"
            ]
          },
          "metadata": {},
          "execution_count": 29
        }
      ]
    },
    {
      "cell_type": "code",
      "source": [
        "num_list.count(4)"
      ],
      "metadata": {
        "colab": {
          "base_uri": "https://localhost:8080/"
        },
        "id": "VohoyfYwjXjN",
        "outputId": "cadf9a51-0a13-426d-94e4-539c3cb8d881"
      },
      "execution_count": 30,
      "outputs": [
        {
          "output_type": "execute_result",
          "data": {
            "text/plain": [
              "1"
            ]
          },
          "metadata": {},
          "execution_count": 30
        }
      ]
    },
    {
      "cell_type": "markdown",
      "source": [
        "# **Reverse and Sort List**"
      ],
      "metadata": {
        "id": "7V_01GH5kEid"
      }
    },
    {
      "cell_type": "code",
      "source": [
        "num_list.reverse()"
      ],
      "metadata": {
        "id": "Vklc899djeLm"
      },
      "execution_count": 31,
      "outputs": []
    },
    {
      "cell_type": "code",
      "source": [
        "num_list"
      ],
      "metadata": {
        "colab": {
          "base_uri": "https://localhost:8080/"
        },
        "id": "BK7UrdvBkKn0",
        "outputId": "6beccb74-6847-4f05-a5c7-3f0dc24af24b"
      },
      "execution_count": 32,
      "outputs": [
        {
          "output_type": "execute_result",
          "data": {
            "text/plain": [
              "[10, 9, 8, 7, 6, 5, 4, 3, 2, 1]"
            ]
          },
          "metadata": {},
          "execution_count": 32
        }
      ]
    },
    {
      "cell_type": "code",
      "source": [
        "num_list.sort()\n",
        "num_list"
      ],
      "metadata": {
        "colab": {
          "base_uri": "https://localhost:8080/"
        },
        "id": "eRwyhnN7kL6F",
        "outputId": "a545d173-c754-4314-911a-5f73fea03f0a"
      },
      "execution_count": 33,
      "outputs": [
        {
          "output_type": "execute_result",
          "data": {
            "text/plain": [
              "[1, 2, 3, 4, 5, 6, 7, 8, 9, 10]"
            ]
          },
          "metadata": {},
          "execution_count": 33
        }
      ]
    },
    {
      "cell_type": "markdown",
      "source": [
        "# **Indexing and Slicing Lists**"
      ],
      "metadata": {
        "id": "XgyvAsUAlWM5"
      }
    },
    {
      "cell_type": "code",
      "source": [
        "my_list"
      ],
      "metadata": {
        "colab": {
          "base_uri": "https://localhost:8080/"
        },
        "id": "_bsMStk3kOSC",
        "outputId": "107a4ceb-0bdf-4d97-962e-aa84f197931a"
      },
      "execution_count": 35,
      "outputs": [
        {
          "output_type": "execute_result",
          "data": {
            "text/plain": [
              "[1,\n",
              " 'lesson',\n",
              " 34,\n",
              " True,\n",
              " 'H',\n",
              " 'o',\n",
              " 'w',\n",
              " ' ',\n",
              " 'a',\n",
              " 'r',\n",
              " 'e',\n",
              " ' ',\n",
              " 'y',\n",
              " 'o',\n",
              " 'u',\n",
              " '?']"
            ]
          },
          "metadata": {},
          "execution_count": 35
        }
      ]
    },
    {
      "cell_type": "code",
      "source": [
        "my_list[3]"
      ],
      "metadata": {
        "colab": {
          "base_uri": "https://localhost:8080/"
        },
        "id": "rODJ3Meilaah",
        "outputId": "7b9f720c-0bd3-4bd0-824c-1393515e302a"
      },
      "execution_count": 36,
      "outputs": [
        {
          "output_type": "execute_result",
          "data": {
            "text/plain": [
              "True"
            ]
          },
          "metadata": {},
          "execution_count": 36
        }
      ]
    },
    {
      "cell_type": "code",
      "source": [
        "my_list[1:4]"
      ],
      "metadata": {
        "colab": {
          "base_uri": "https://localhost:8080/"
        },
        "id": "5f-MD21-ldtw",
        "outputId": "d966ca09-1432-4da1-b042-d9ce0a4762c7"
      },
      "execution_count": 37,
      "outputs": [
        {
          "output_type": "execute_result",
          "data": {
            "text/plain": [
              "['lesson', 34, True]"
            ]
          },
          "metadata": {},
          "execution_count": 37
        }
      ]
    },
    {
      "cell_type": "markdown",
      "source": [
        "# **Nested List**"
      ],
      "metadata": {
        "id": "Rovgu0_nlkGP"
      }
    },
    {
      "cell_type": "code",
      "source": [
        "nested_list = [[1,2,3], [3,4,5], [4,5,6]]\n",
        "nested_list"
      ],
      "metadata": {
        "colab": {
          "base_uri": "https://localhost:8080/"
        },
        "id": "n-1yiK1Alghr",
        "outputId": "6afe6af8-7010-47d2-dff0-263cef5d8f4b"
      },
      "execution_count": 38,
      "outputs": [
        {
          "output_type": "execute_result",
          "data": {
            "text/plain": [
              "[[1, 2, 3], [3, 4, 5], [4, 5, 6]]"
            ]
          },
          "metadata": {},
          "execution_count": 38
        }
      ]
    },
    {
      "cell_type": "code",
      "source": [
        "nested_list[1][2]"
      ],
      "metadata": {
        "colab": {
          "base_uri": "https://localhost:8080/"
        },
        "id": "uBtd57T0lq8s",
        "outputId": "1991d511-60e9-4c9d-e93c-c1e8ef5b22c9"
      },
      "execution_count": 42,
      "outputs": [
        {
          "output_type": "execute_result",
          "data": {
            "text/plain": [
              "5"
            ]
          },
          "metadata": {},
          "execution_count": 42
        }
      ]
    },
    {
      "cell_type": "code",
      "source": [
        "nested_list[1][0:3]"
      ],
      "metadata": {
        "colab": {
          "base_uri": "https://localhost:8080/"
        },
        "id": "9fn-2-qpltSE",
        "outputId": "e8e20895-5da5-42ef-de9f-be045c708c88"
      },
      "execution_count": 44,
      "outputs": [
        {
          "output_type": "execute_result",
          "data": {
            "text/plain": [
              "[3, 4, 5]"
            ]
          },
          "metadata": {},
          "execution_count": 44
        }
      ]
    },
    {
      "cell_type": "code",
      "source": [
        "my_list"
      ],
      "metadata": {
        "colab": {
          "base_uri": "https://localhost:8080/"
        },
        "id": "LwJfvE6ZlzBA",
        "outputId": "3cc5f9ad-5ea0-425e-d6ac-06040bb34779"
      },
      "execution_count": 45,
      "outputs": [
        {
          "output_type": "execute_result",
          "data": {
            "text/plain": [
              "[1,\n",
              " 'lesson',\n",
              " 34,\n",
              " True,\n",
              " 'H',\n",
              " 'o',\n",
              " 'w',\n",
              " ' ',\n",
              " 'a',\n",
              " 'r',\n",
              " 'e',\n",
              " ' ',\n",
              " 'y',\n",
              " 'o',\n",
              " 'u',\n",
              " '?']"
            ]
          },
          "metadata": {},
          "execution_count": 45
        }
      ]
    },
    {
      "cell_type": "code",
      "source": [
        "# Using steps. Step is 1 by default\n",
        "my_list[0:8:3]"
      ],
      "metadata": {
        "colab": {
          "base_uri": "https://localhost:8080/"
        },
        "id": "HplljqwTl7wl",
        "outputId": "8cf4e6da-3cc5-4a94-aa85-f268541ddc0f"
      },
      "execution_count": 46,
      "outputs": [
        {
          "output_type": "execute_result",
          "data": {
            "text/plain": [
              "[1, True, 'w']"
            ]
          },
          "metadata": {},
          "execution_count": 46
        }
      ]
    },
    {
      "cell_type": "code",
      "source": [
        "my_list[:3]"
      ],
      "metadata": {
        "colab": {
          "base_uri": "https://localhost:8080/"
        },
        "id": "AtGNza9cl-Xy",
        "outputId": "cdb5050d-a053-45fa-9a86-739924d9a3eb"
      },
      "execution_count": 47,
      "outputs": [
        {
          "output_type": "execute_result",
          "data": {
            "text/plain": [
              "[1, 'lesson', 34]"
            ]
          },
          "metadata": {},
          "execution_count": 47
        }
      ]
    },
    {
      "cell_type": "code",
      "source": [
        "my_list[4:]"
      ],
      "metadata": {
        "colab": {
          "base_uri": "https://localhost:8080/"
        },
        "id": "9GtFvxe8mjKN",
        "outputId": "24f125e1-b815-45e2-f2f8-f6c9d679f629"
      },
      "execution_count": 48,
      "outputs": [
        {
          "output_type": "execute_result",
          "data": {
            "text/plain": [
              "['H', 'o', 'w', ' ', 'a', 'r', 'e', ' ', 'y', 'o', 'u', '?']"
            ]
          },
          "metadata": {},
          "execution_count": 48
        }
      ]
    },
    {
      "cell_type": "code",
      "source": [
        "my_list[-1]"
      ],
      "metadata": {
        "colab": {
          "base_uri": "https://localhost:8080/",
          "height": 35
        },
        "id": "uON4cgQDmnSA",
        "outputId": "b9b32515-54ad-440f-e993-ab133c16fe39"
      },
      "execution_count": 49,
      "outputs": [
        {
          "output_type": "execute_result",
          "data": {
            "text/plain": [
              "'?'"
            ],
            "application/vnd.google.colaboratory.intrinsic+json": {
              "type": "string"
            }
          },
          "metadata": {},
          "execution_count": 49
        }
      ]
    },
    {
      "cell_type": "code",
      "source": [
        "my_list[-3:-1]"
      ],
      "metadata": {
        "colab": {
          "base_uri": "https://localhost:8080/"
        },
        "id": "FC38rqmzmrcq",
        "outputId": "2ab1229c-17e1-4308-c209-0973324ad998"
      },
      "execution_count": 52,
      "outputs": [
        {
          "output_type": "execute_result",
          "data": {
            "text/plain": [
              "['o', 'u']"
            ]
          },
          "metadata": {},
          "execution_count": 52
        }
      ]
    },
    {
      "cell_type": "code",
      "source": [
        "my_list[3:7] = [1,2,3,4]"
      ],
      "metadata": {
        "id": "KfLwalmrmtsU"
      },
      "execution_count": 55,
      "outputs": []
    },
    {
      "cell_type": "code",
      "source": [
        "my_list"
      ],
      "metadata": {
        "colab": {
          "base_uri": "https://localhost:8080/"
        },
        "id": "Pd7EK0NdnSfj",
        "outputId": "8e18306b-81a8-4de6-a299-4e6f37e252c4"
      },
      "execution_count": 56,
      "outputs": [
        {
          "output_type": "execute_result",
          "data": {
            "text/plain": [
              "[1, 'lesson', 34, 1, 2, 3, 4, ' ', 'a', 'r', 'e', ' ', 'y', 'o', 'u', '?']"
            ]
          },
          "metadata": {},
          "execution_count": 56
        }
      ]
    },
    {
      "cell_type": "code",
      "source": [
        "del(my_list[0])"
      ],
      "metadata": {
        "id": "PS_rgc9onZ8p"
      },
      "execution_count": 59,
      "outputs": []
    },
    {
      "cell_type": "code",
      "source": [
        "my_list"
      ],
      "metadata": {
        "colab": {
          "base_uri": "https://localhost:8080/"
        },
        "id": "CT49KDHYnfzY",
        "outputId": "0162330b-c7d6-44d7-cfdd-4997a7b333cc"
      },
      "execution_count": 60,
      "outputs": [
        {
          "output_type": "execute_result",
          "data": {
            "text/plain": [
              "[34, 1, 2, 3, 4, ' ', 'a', 'r', 'e', ' ', 'y', 'o', 'u', '?']"
            ]
          },
          "metadata": {},
          "execution_count": 60
        }
      ]
    },
    {
      "cell_type": "code",
      "source": [
        "del(my_list[5:8])\n",
        "my_list"
      ],
      "metadata": {
        "colab": {
          "base_uri": "https://localhost:8080/"
        },
        "id": "ymnFiYCEngwd",
        "outputId": "804df54a-4280-48ec-c524-2c7eb4715487"
      },
      "execution_count": 61,
      "outputs": [
        {
          "output_type": "execute_result",
          "data": {
            "text/plain": [
              "[34, 1, 2, 3, 4, 'e', ' ', 'y', 'o', 'u', '?']"
            ]
          },
          "metadata": {},
          "execution_count": 61
        }
      ]
    },
    {
      "cell_type": "code",
      "source": [
        "# .pop removes the final item from the list\n",
        "my_list.pop()\n",
        "my_list"
      ],
      "metadata": {
        "colab": {
          "base_uri": "https://localhost:8080/"
        },
        "id": "Aq3ij0vcnoji",
        "outputId": "3c7dc7cd-5667-41f6-a417-7fdbfbd80cca"
      },
      "execution_count": 62,
      "outputs": [
        {
          "output_type": "execute_result",
          "data": {
            "text/plain": [
              "[34, 1, 2, 3, 4, 'e', ' ', 'y', 'o', 'u']"
            ]
          },
          "metadata": {},
          "execution_count": 62
        }
      ]
    },
    {
      "cell_type": "code",
      "source": [
        "del(my_list[-1]) # this will also remove the final item from the list\n",
        "my_list"
      ],
      "metadata": {
        "colab": {
          "base_uri": "https://localhost:8080/"
        },
        "id": "_AskAJtkn5dH",
        "outputId": "010727e6-1fc7-4747-bc06-207657769725"
      },
      "execution_count": 63,
      "outputs": [
        {
          "output_type": "execute_result",
          "data": {
            "text/plain": [
              "[34, 1, 2, 3, 4, 'e', ' ', 'y', 'o']"
            ]
          },
          "metadata": {},
          "execution_count": 63
        }
      ]
    },
    {
      "cell_type": "code",
      "source": [
        "copy_list = my_list.copy()\n",
        "copy_list"
      ],
      "metadata": {
        "colab": {
          "base_uri": "https://localhost:8080/"
        },
        "id": "EoamzOI2oAYr",
        "outputId": "d366468a-aa98-4c26-bf75-8d098c4e832f"
      },
      "execution_count": 64,
      "outputs": [
        {
          "output_type": "execute_result",
          "data": {
            "text/plain": [
              "[34, 1, 2, 3, 4, 'e', ' ', 'y', 'o']"
            ]
          },
          "metadata": {},
          "execution_count": 64
        }
      ]
    },
    {
      "cell_type": "code",
      "source": [
        "list1 = [1,2,3]\n",
        "list2 = ['This is a list', list1]\n",
        "list2"
      ],
      "metadata": {
        "colab": {
          "base_uri": "https://localhost:8080/"
        },
        "id": "GLTSL3-Som0H",
        "outputId": "5b7df0e4-f5f1-4bf2-e36c-f0e1e8dc8a87"
      },
      "execution_count": 9,
      "outputs": [
        {
          "output_type": "execute_result",
          "data": {
            "text/plain": [
              "['This is a list', [1, 2, 3]]"
            ]
          },
          "metadata": {},
          "execution_count": 9
        }
      ]
    },
    {
      "cell_type": "code",
      "source": [
        "list3 = list2.copy()\n",
        "list3"
      ],
      "metadata": {
        "colab": {
          "base_uri": "https://localhost:8080/"
        },
        "id": "6Y406t6Z1R5I",
        "outputId": "f8d6d620-6d0e-4cc5-9681-512898e388c3"
      },
      "execution_count": 2,
      "outputs": [
        {
          "output_type": "execute_result",
          "data": {
            "text/plain": [
              "['This is a list', [1, 2, 3]]"
            ]
          },
          "metadata": {},
          "execution_count": 2
        }
      ]
    },
    {
      "cell_type": "code",
      "source": [
        "# check list 2 and list 3 before appending anything to list 1\n",
        "print(list2)\n",
        "print(list3)"
      ],
      "metadata": {
        "colab": {
          "base_uri": "https://localhost:8080/"
        },
        "id": "TCDpzA0e1iOh",
        "outputId": "e00dafee-c623-4af3-ec08-883798d67ae9"
      },
      "execution_count": 3,
      "outputs": [
        {
          "output_type": "stream",
          "name": "stdout",
          "text": [
            "['This is a list', [1, 2, 3]]\n",
            "['This is a list', [1, 2, 3]]\n"
          ]
        }
      ]
    },
    {
      "cell_type": "code",
      "source": [
        "# now lets append to list 1\n",
        "list1.append(4)\n",
        "list1"
      ],
      "metadata": {
        "colab": {
          "base_uri": "https://localhost:8080/"
        },
        "id": "J0H4DbtS1stw",
        "outputId": "3ec10309-2a94-45a5-878a-3a7f265929ff"
      },
      "execution_count": 4,
      "outputs": [
        {
          "output_type": "execute_result",
          "data": {
            "text/plain": [
              "[1, 2, 3, 4]"
            ]
          },
          "metadata": {},
          "execution_count": 4
        }
      ]
    },
    {
      "cell_type": "code",
      "source": [
        "# now lets check list 2 and list 3 again\n",
        "print(list2)\n",
        "print(list3)"
      ],
      "metadata": {
        "colab": {
          "base_uri": "https://localhost:8080/"
        },
        "id": "EtxxlSiQ1zZP",
        "outputId": "13a4a8cb-9f66-4ae8-9f89-4184d23799b7"
      },
      "execution_count": 5,
      "outputs": [
        {
          "output_type": "stream",
          "name": "stdout",
          "text": [
            "['This is a list', [1, 2, 3, 4]]\n",
            "['This is a list', [1, 2, 3, 4]]\n"
          ]
        }
      ]
    },
    {
      "cell_type": "code",
      "source": [
        "# 4 appeared in list 3 because it is a shallow copy of list 2 and not a deep copy. We need to have a deep copy to avoid this.\n",
        "import copy\n",
        "list3 = copy.deepcopy(list2)\n",
        "list3"
      ],
      "metadata": {
        "colab": {
          "base_uri": "https://localhost:8080/"
        },
        "id": "NQxv5HMI13Xh",
        "outputId": "e125ffd4-42a9-4148-c8f9-2f2949f72144"
      },
      "execution_count": 10,
      "outputs": [
        {
          "output_type": "execute_result",
          "data": {
            "text/plain": [
              "['This is a list', [1, 2, 3]]"
            ]
          },
          "metadata": {},
          "execution_count": 10
        }
      ]
    },
    {
      "cell_type": "code",
      "source": [
        "# now lets append to list 1\n",
        "list1.append(4)\n",
        "list1"
      ],
      "metadata": {
        "colab": {
          "base_uri": "https://localhost:8080/"
        },
        "id": "aQlA7dbL2UVn",
        "outputId": "5a633172-2d23-436c-9148-47a7de7ca320"
      },
      "execution_count": 11,
      "outputs": [
        {
          "output_type": "execute_result",
          "data": {
            "text/plain": [
              "[1, 2, 3, 4]"
            ]
          },
          "metadata": {},
          "execution_count": 11
        }
      ]
    },
    {
      "cell_type": "code",
      "source": [
        "print(list2)\n",
        "print(list3)"
      ],
      "metadata": {
        "colab": {
          "base_uri": "https://localhost:8080/"
        },
        "id": "H83V_t9f2fFd",
        "outputId": "48f08fc5-dfa4-4a85-cbc2-42e7ca1fff39"
      },
      "execution_count": 12,
      "outputs": [
        {
          "output_type": "stream",
          "name": "stdout",
          "text": [
            "['This is a list', [1, 2, 3, 4]]\n",
            "['This is a list', [1, 2, 3]]\n"
          ]
        }
      ]
    },
    {
      "cell_type": "markdown",
      "source": [
        "4 did not appear in list 3 this time."
      ],
      "metadata": {
        "id": "rxSBOO9j2jDe"
      }
    },
    {
      "cell_type": "markdown",
      "source": [
        "# **Tuples and Strings**"
      ],
      "metadata": {
        "id": "EsMMB5pP3NeR"
      }
    },
    {
      "cell_type": "code",
      "source": [
        "my_tuple = (1,2,3)\n",
        "my_tuple"
      ],
      "metadata": {
        "colab": {
          "base_uri": "https://localhost:8080/"
        },
        "id": "PORq0tAV2g4o",
        "outputId": "dd777571-dd61-4331-98c8-761529377282"
      },
      "execution_count": 14,
      "outputs": [
        {
          "output_type": "execute_result",
          "data": {
            "text/plain": [
              "(1, 2, 3)"
            ]
          },
          "metadata": {},
          "execution_count": 14
        }
      ]
    },
    {
      "cell_type": "code",
      "source": [
        "tuple1 = (1,2,3,'I am')\n",
        "tuple1"
      ],
      "metadata": {
        "colab": {
          "base_uri": "https://localhost:8080/"
        },
        "id": "YQ_C17iI4bA4",
        "outputId": "43a583d1-eb15-47e5-f53e-fd9bd39dfcae"
      },
      "execution_count": 15,
      "outputs": [
        {
          "output_type": "execute_result",
          "data": {
            "text/plain": [
              "(1, 2, 3, 'I am')"
            ]
          },
          "metadata": {},
          "execution_count": 15
        }
      ]
    },
    {
      "cell_type": "code",
      "source": [
        "tuple1[1:3]"
      ],
      "metadata": {
        "colab": {
          "base_uri": "https://localhost:8080/"
        },
        "id": "nOESw5cZ4g4W",
        "outputId": "00f379f1-9876-472e-e8f2-82cceb59a56a"
      },
      "execution_count": 16,
      "outputs": [
        {
          "output_type": "execute_result",
          "data": {
            "text/plain": [
              "(2, 3)"
            ]
          },
          "metadata": {},
          "execution_count": 16
        }
      ]
    },
    {
      "cell_type": "code",
      "source": [
        "tuple2 = tuple([2,3,4,5])\n",
        "tuple2"
      ],
      "metadata": {
        "colab": {
          "base_uri": "https://localhost:8080/"
        },
        "id": "zUYBK_ht4jGY",
        "outputId": "12319884-e3d0-4f60-c901-672a082ffb44"
      },
      "execution_count": 17,
      "outputs": [
        {
          "output_type": "execute_result",
          "data": {
            "text/plain": [
              "(2, 3, 4, 5)"
            ]
          },
          "metadata": {},
          "execution_count": 17
        }
      ]
    },
    {
      "cell_type": "markdown",
      "source": [
        "Tuples are immutable so we can not append or delete anything"
      ],
      "metadata": {
        "id": "Iz_Ngndv4smS"
      }
    },
    {
      "cell_type": "code",
      "source": [
        "tuple1.append(0)  # this will give an error."
      ],
      "metadata": {
        "colab": {
          "base_uri": "https://localhost:8080/",
          "height": 144
        },
        "id": "ge02lO0B4rKx",
        "outputId": "d0983be3-511f-4a7e-ab0f-4a313bbdd7c5"
      },
      "execution_count": 19,
      "outputs": [
        {
          "output_type": "error",
          "ename": "AttributeError",
          "evalue": "'tuple' object has no attribute 'append'",
          "traceback": [
            "\u001b[0;31m---------------------------------------------------------------------------\u001b[0m",
            "\u001b[0;31mAttributeError\u001b[0m                            Traceback (most recent call last)",
            "\u001b[0;32m<ipython-input-19-d874a1076553>\u001b[0m in \u001b[0;36m<cell line: 0>\u001b[0;34m()\u001b[0m\n\u001b[0;32m----> 1\u001b[0;31m \u001b[0mtuple1\u001b[0m\u001b[0;34m.\u001b[0m\u001b[0mappend\u001b[0m\u001b[0;34m(\u001b[0m\u001b[0;36m0\u001b[0m\u001b[0;34m)\u001b[0m  \u001b[0;31m# this will give an error.\u001b[0m\u001b[0;34m\u001b[0m\u001b[0;34m\u001b[0m\u001b[0m\n\u001b[0m",
            "\u001b[0;31mAttributeError\u001b[0m: 'tuple' object has no attribute 'append'"
          ]
        }
      ]
    },
    {
      "cell_type": "code",
      "source": [
        "del(tuple1[0])  # this will also give an error"
      ],
      "metadata": {
        "colab": {
          "base_uri": "https://localhost:8080/",
          "height": 144
        },
        "id": "tF-bhE2e4x5l",
        "outputId": "6655e784-d402-4d55-c0a8-89eca111bf32"
      },
      "execution_count": 20,
      "outputs": [
        {
          "output_type": "error",
          "ename": "TypeError",
          "evalue": "'tuple' object doesn't support item deletion",
          "traceback": [
            "\u001b[0;31m---------------------------------------------------------------------------\u001b[0m",
            "\u001b[0;31mTypeError\u001b[0m                                 Traceback (most recent call last)",
            "\u001b[0;32m<ipython-input-20-331a70648d0f>\u001b[0m in \u001b[0;36m<cell line: 0>\u001b[0;34m()\u001b[0m\n\u001b[0;32m----> 1\u001b[0;31m \u001b[0;32mdel\u001b[0m\u001b[0;34m(\u001b[0m\u001b[0mtuple1\u001b[0m\u001b[0;34m[\u001b[0m\u001b[0;36m0\u001b[0m\u001b[0;34m]\u001b[0m\u001b[0;34m)\u001b[0m  \u001b[0;31m# this will also give an error\u001b[0m\u001b[0;34m\u001b[0m\u001b[0;34m\u001b[0m\u001b[0m\n\u001b[0m",
            "\u001b[0;31mTypeError\u001b[0m: 'tuple' object doesn't support item deletion"
          ]
        }
      ]
    },
    {
      "cell_type": "code",
      "source": [
        "sum(tuple2)"
      ],
      "metadata": {
        "colab": {
          "base_uri": "https://localhost:8080/"
        },
        "id": "S0p_eQ9a46pa",
        "outputId": "fc3209f3-ad5e-49cb-bf45-5101a18cc3ac"
      },
      "execution_count": 22,
      "outputs": [
        {
          "output_type": "execute_result",
          "data": {
            "text/plain": [
              "14"
            ]
          },
          "metadata": {},
          "execution_count": 22
        }
      ]
    },
    {
      "cell_type": "code",
      "source": [
        "tuple1.reverse()  #this will also give an error"
      ],
      "metadata": {
        "colab": {
          "base_uri": "https://localhost:8080/",
          "height": 144
        },
        "id": "9fxN2-JK48j4",
        "outputId": "2233259a-256f-436b-ae88-9b20a62659dc"
      },
      "execution_count": 24,
      "outputs": [
        {
          "output_type": "error",
          "ename": "AttributeError",
          "evalue": "'tuple' object has no attribute 'reverse'",
          "traceback": [
            "\u001b[0;31m---------------------------------------------------------------------------\u001b[0m",
            "\u001b[0;31mAttributeError\u001b[0m                            Traceback (most recent call last)",
            "\u001b[0;32m<ipython-input-24-848f26ff323b>\u001b[0m in \u001b[0;36m<cell line: 0>\u001b[0;34m()\u001b[0m\n\u001b[0;32m----> 1\u001b[0;31m \u001b[0mtuple1\u001b[0m\u001b[0;34m.\u001b[0m\u001b[0mreverse\u001b[0m\u001b[0;34m(\u001b[0m\u001b[0;34m)\u001b[0m\u001b[0;34m\u001b[0m\u001b[0;34m\u001b[0m\u001b[0m\n\u001b[0m",
            "\u001b[0;31mAttributeError\u001b[0m: 'tuple' object has no attribute 'reverse'"
          ]
        }
      ]
    },
    {
      "cell_type": "code",
      "source": [
        "list10 = list(tuple1)\n",
        "list10.reverse()"
      ],
      "metadata": {
        "id": "UR7krDOx5Mer"
      },
      "execution_count": 25,
      "outputs": []
    },
    {
      "cell_type": "code",
      "source": [
        "list10"
      ],
      "metadata": {
        "colab": {
          "base_uri": "https://localhost:8080/"
        },
        "id": "KRJzG8rT5dPC",
        "outputId": "16602503-9a00-4e9d-a68d-df5ed8d6d07e"
      },
      "execution_count": 26,
      "outputs": [
        {
          "output_type": "execute_result",
          "data": {
            "text/plain": [
              "['I am', 3, 2, 1]"
            ]
          },
          "metadata": {},
          "execution_count": 26
        }
      ]
    },
    {
      "cell_type": "code",
      "source": [
        "tuple1[::-1]\n",
        "# reverse method will not work on tuple. However, we can reverse a tuple using reverse indexing"
      ],
      "metadata": {
        "colab": {
          "base_uri": "https://localhost:8080/"
        },
        "id": "fW9UsEWW5yEQ",
        "outputId": "2bac8cb4-5b89-4b3a-a8b1-f47651d2101f"
      },
      "execution_count": 28,
      "outputs": [
        {
          "output_type": "execute_result",
          "data": {
            "text/plain": [
              "('I am', 3, 2, 1)"
            ]
          },
          "metadata": {},
          "execution_count": 28
        }
      ]
    },
    {
      "cell_type": "code",
      "source": [
        "tuple1.count(3)"
      ],
      "metadata": {
        "colab": {
          "base_uri": "https://localhost:8080/"
        },
        "id": "P18O0z7c6BTI",
        "outputId": "ff90fb32-01cd-4ec7-e170-748fd65ba4d4"
      },
      "execution_count": 31,
      "outputs": [
        {
          "output_type": "execute_result",
          "data": {
            "text/plain": [
              "1"
            ]
          },
          "metadata": {},
          "execution_count": 31
        }
      ]
    },
    {
      "cell_type": "markdown",
      "source": [
        "# **Strings**"
      ],
      "metadata": {
        "id": "E2yB-3pM5hsM"
      }
    },
    {
      "cell_type": "code",
      "source": [
        "my_string = 'I am doing WeLL'"
      ],
      "metadata": {
        "id": "Fr78GfZh5esC"
      },
      "execution_count": 32,
      "outputs": []
    },
    {
      "cell_type": "code",
      "source": [
        "my_string[1:4]"
      ],
      "metadata": {
        "colab": {
          "base_uri": "https://localhost:8080/",
          "height": 35
        },
        "id": "fJPZV-SG5kBi",
        "outputId": "e387e280-816f-49f4-c5cb-b4cdbb52280b"
      },
      "execution_count": 33,
      "outputs": [
        {
          "output_type": "execute_result",
          "data": {
            "text/plain": [
              "' am'"
            ],
            "application/vnd.google.colaboratory.intrinsic+json": {
              "type": "string"
            }
          },
          "metadata": {},
          "execution_count": 33
        }
      ]
    },
    {
      "cell_type": "code",
      "source": [
        "len(my_string)"
      ],
      "metadata": {
        "colab": {
          "base_uri": "https://localhost:8080/"
        },
        "id": "4KY04C5K5kEI",
        "outputId": "67cc830f-55e2-4fc9-8a64-7f0419b49983"
      },
      "execution_count": 34,
      "outputs": [
        {
          "output_type": "execute_result",
          "data": {
            "text/plain": [
              "15"
            ]
          },
          "metadata": {},
          "execution_count": 34
        }
      ]
    },
    {
      "cell_type": "code",
      "source": [
        "my_string.count('i')"
      ],
      "metadata": {
        "colab": {
          "base_uri": "https://localhost:8080/"
        },
        "id": "8kXKU6hv6XYe",
        "outputId": "be1117a0-a99c-459b-e27d-74451ffeb6ac"
      },
      "execution_count": 35,
      "outputs": [
        {
          "output_type": "execute_result",
          "data": {
            "text/plain": [
              "1"
            ]
          },
          "metadata": {},
          "execution_count": 35
        }
      ]
    },
    {
      "cell_type": "code",
      "source": [
        "my_string.lower().count('i')"
      ],
      "metadata": {
        "colab": {
          "base_uri": "https://localhost:8080/"
        },
        "id": "jXli9G1x6bCD",
        "outputId": "0e510b67-d4bb-4136-e1e1-e02537daf4a0"
      },
      "execution_count": 36,
      "outputs": [
        {
          "output_type": "execute_result",
          "data": {
            "text/plain": [
              "2"
            ]
          },
          "metadata": {},
          "execution_count": 36
        }
      ]
    },
    {
      "cell_type": "code",
      "source": [
        "my_string.upper().count('I')"
      ],
      "metadata": {
        "colab": {
          "base_uri": "https://localhost:8080/"
        },
        "id": "4mJcsQ4n6ebR",
        "outputId": "7294b6b6-b234-4abd-f80d-4d8b1997c959"
      },
      "execution_count": 37,
      "outputs": [
        {
          "output_type": "execute_result",
          "data": {
            "text/plain": [
              "2"
            ]
          },
          "metadata": {},
          "execution_count": 37
        }
      ]
    },
    {
      "cell_type": "code",
      "source": [
        "my_string.title()\n",
        "# this will make all those letters upper case that appear after spaces"
      ],
      "metadata": {
        "colab": {
          "base_uri": "https://localhost:8080/",
          "height": 35
        },
        "id": "ypQMDB446hXd",
        "outputId": "93165804-59c5-4ce1-d62f-a684d755c8ea"
      },
      "execution_count": 39,
      "outputs": [
        {
          "output_type": "execute_result",
          "data": {
            "text/plain": [
              "'I Am Doing Well'"
            ],
            "application/vnd.google.colaboratory.intrinsic+json": {
              "type": "string"
            }
          },
          "metadata": {},
          "execution_count": 39
        }
      ]
    },
    {
      "cell_type": "code",
      "source": [
        "# we can use .find method in a string to find the index of a letter\n",
        "my_string.find('W')"
      ],
      "metadata": {
        "colab": {
          "base_uri": "https://localhost:8080/"
        },
        "id": "gpinXbWA6pQo",
        "outputId": "66e244ac-1157-490b-f543-248fee3c99de"
      },
      "execution_count": 40,
      "outputs": [
        {
          "output_type": "execute_result",
          "data": {
            "text/plain": [
              "11"
            ]
          },
          "metadata": {},
          "execution_count": 40
        }
      ]
    },
    {
      "cell_type": "code",
      "source": [
        "my_string.replace('I am', 'He is')"
      ],
      "metadata": {
        "colab": {
          "base_uri": "https://localhost:8080/",
          "height": 35
        },
        "id": "DewPH80h7Xtu",
        "outputId": "0e6d95be-baf0-4ffe-8e0f-9af0e44a1c1e"
      },
      "execution_count": 47,
      "outputs": [
        {
          "output_type": "execute_result",
          "data": {
            "text/plain": [
              "'He is doing WeLL'"
            ],
            "application/vnd.google.colaboratory.intrinsic+json": {
              "type": "string"
            }
          },
          "metadata": {},
          "execution_count": 47
        }
      ]
    },
    {
      "cell_type": "markdown",
      "source": [
        "Since strings are immutable, the .replace() method doesn't modify the original string — it returns a new string with the changes applied."
      ],
      "metadata": {
        "id": "M9E2rS3A72Si"
      }
    },
    {
      "cell_type": "code",
      "source": [
        "my_string + \". Let's go.\""
      ],
      "metadata": {
        "colab": {
          "base_uri": "https://localhost:8080/",
          "height": 35
        },
        "id": "hhRtF8A171CB",
        "outputId": "5618d2e5-e3c6-448a-caea-072803c63bdc"
      },
      "execution_count": 51,
      "outputs": [
        {
          "output_type": "execute_result",
          "data": {
            "text/plain": [
              "\"I am doing WeLL. Let's go.\""
            ],
            "application/vnd.google.colaboratory.intrinsic+json": {
              "type": "string"
            }
          },
          "metadata": {},
          "execution_count": 51
        }
      ]
    },
    {
      "cell_type": "markdown",
      "source": [
        "We don't have to use + all the time to concatenate strings if we have multiple string variables."
      ],
      "metadata": {
        "id": "YprLLjZF8-ie"
      }
    },
    {
      "cell_type": "code",
      "source": [
        "string1 = 'Hi'\n",
        "string2 = 'My name is'\n",
        "name1 = 'John'\n",
        "string3 = 'Nice to meet you'\n",
        "name2 = 'Lisa'"
      ],
      "metadata": {
        "id": "iUnwwEFv82u2"
      },
      "execution_count": 53,
      "outputs": []
    },
    {
      "cell_type": "code",
      "source": [
        "sentence = \"\".join([string1,\" \", string2,\" \", name1,\". \", string3,\" \", name2, \".\"])"
      ],
      "metadata": {
        "id": "mUylaQyV9Oid"
      },
      "execution_count": 59,
      "outputs": []
    },
    {
      "cell_type": "code",
      "source": [
        "sentence"
      ],
      "metadata": {
        "colab": {
          "base_uri": "https://localhost:8080/",
          "height": 35
        },
        "id": "z96Tvk6J9czY",
        "outputId": "7e4019a7-991c-4cea-e019-b2967793ddea"
      },
      "execution_count": 60,
      "outputs": [
        {
          "output_type": "execute_result",
          "data": {
            "text/plain": [
              "'Hi My name is John. Nice to meet you Lisa.'"
            ],
            "application/vnd.google.colaboratory.intrinsic+json": {
              "type": "string"
            }
          },
          "metadata": {},
          "execution_count": 60
        }
      ]
    },
    {
      "cell_type": "code",
      "source": [
        "string4 = \"xXtestAccountID: aB0002784cyD000018XxxX\"\n",
        "string4.strip('xXtest')"
      ],
      "metadata": {
        "colab": {
          "base_uri": "https://localhost:8080/",
          "height": 35
        },
        "id": "c74X9Zaz9ian",
        "outputId": "06b6f50a-2ef7-4096-fd19-853488a6c9e8"
      },
      "execution_count": 61,
      "outputs": [
        {
          "output_type": "execute_result",
          "data": {
            "text/plain": [
              "'AccountID: aB0002784cyD000018'"
            ],
            "application/vnd.google.colaboratory.intrinsic+json": {
              "type": "string"
            }
          },
          "metadata": {},
          "execution_count": 61
        }
      ]
    },
    {
      "cell_type": "code",
      "source": [
        "string4"
      ],
      "metadata": {
        "colab": {
          "base_uri": "https://localhost:8080/",
          "height": 35
        },
        "id": "mfHwe5E199I9",
        "outputId": "3a1c9239-d7dd-481f-bfe7-bf5e620160b5"
      },
      "execution_count": 62,
      "outputs": [
        {
          "output_type": "execute_result",
          "data": {
            "text/plain": [
              "'xXtestAccountID: aB0002784cyD000018XxxX'"
            ],
            "application/vnd.google.colaboratory.intrinsic+json": {
              "type": "string"
            }
          },
          "metadata": {},
          "execution_count": 62
        }
      ]
    },
    {
      "cell_type": "code",
      "source": [
        "string4.lstrip('xXtest')"
      ],
      "metadata": {
        "colab": {
          "base_uri": "https://localhost:8080/",
          "height": 35
        },
        "id": "661zidqf9_uS",
        "outputId": "b615a79b-42a5-4bfb-e902-b10cc0d9aad4"
      },
      "execution_count": 63,
      "outputs": [
        {
          "output_type": "execute_result",
          "data": {
            "text/plain": [
              "'AccountID: aB0002784cyD000018XxxX'"
            ],
            "application/vnd.google.colaboratory.intrinsic+json": {
              "type": "string"
            }
          },
          "metadata": {},
          "execution_count": 63
        }
      ]
    },
    {
      "cell_type": "code",
      "source": [
        "string4.rstrip('Xx')"
      ],
      "metadata": {
        "colab": {
          "base_uri": "https://localhost:8080/",
          "height": 35
        },
        "id": "GinnRABt-Ckh",
        "outputId": "c5894ca9-fd05-4482-a4d7-445b871a105f"
      },
      "execution_count": 64,
      "outputs": [
        {
          "output_type": "execute_result",
          "data": {
            "text/plain": [
              "'xXtestAccountID: aB0002784cyD000018'"
            ],
            "application/vnd.google.colaboratory.intrinsic+json": {
              "type": "string"
            }
          },
          "metadata": {},
          "execution_count": 64
        }
      ]
    },
    {
      "cell_type": "markdown",
      "source": [
        ".strip() removes characters only from the start and end of the string, not in the middle"
      ],
      "metadata": {
        "id": "lS9g43D4-c2V"
      }
    },
    {
      "cell_type": "code",
      "source": [
        "string2.split()"
      ],
      "metadata": {
        "colab": {
          "base_uri": "https://localhost:8080/"
        },
        "id": "-bK0DRmP-IuX",
        "outputId": "203af116-d322-43ed-e5b2-ff7dec4f8c9e"
      },
      "execution_count": 65,
      "outputs": [
        {
          "output_type": "execute_result",
          "data": {
            "text/plain": [
              "['My', 'name', 'is']"
            ]
          },
          "metadata": {},
          "execution_count": 65
        }
      ]
    },
    {
      "cell_type": "code",
      "source": [
        "string2[1:6].split()"
      ],
      "metadata": {
        "colab": {
          "base_uri": "https://localhost:8080/"
        },
        "id": "gJyYLszC-m3I",
        "outputId": "72c2d9aa-60f4-4d01-db8c-118d546a0cc5"
      },
      "execution_count": 68,
      "outputs": [
        {
          "output_type": "execute_result",
          "data": {
            "text/plain": [
              "['y', 'nam']"
            ]
          },
          "metadata": {},
          "execution_count": 68
        }
      ]
    },
    {
      "cell_type": "code",
      "source": [
        "string11 = \"     i have     a dog.\"\n",
        "string11.strip()"
      ],
      "metadata": {
        "colab": {
          "base_uri": "https://localhost:8080/",
          "height": 35
        },
        "id": "QBhYowTV-pnb",
        "outputId": "f02d7718-1fca-43af-a522-a803a278cbb5"
      },
      "execution_count": 71,
      "outputs": [
        {
          "output_type": "execute_result",
          "data": {
            "text/plain": [
              "'i have     a dog.'"
            ],
            "application/vnd.google.colaboratory.intrinsic+json": {
              "type": "string"
            }
          },
          "metadata": {},
          "execution_count": 71
        }
      ]
    },
    {
      "cell_type": "code",
      "source": [
        "another_string = \"Hello! My name is {}. I work at {}. I have a degree in {}.\"\n",
        "name = 'John Wick'\n",
        "work = 'the High Table'\n",
        "degree = 'Computer Science'\n",
        "\n",
        "another_string.format(name, work, degree)"
      ],
      "metadata": {
        "colab": {
          "base_uri": "https://localhost:8080/",
          "height": 35
        },
        "id": "yxdt-rAK_EHw",
        "outputId": "3024f1a9-836b-4a33-ab26-ff7c6bdb8e7d"
      },
      "execution_count": 73,
      "outputs": [
        {
          "output_type": "execute_result",
          "data": {
            "text/plain": [
              "'Hello! My name is John Wick. I work at the High Table. I have a degree in Computer Science.'"
            ],
            "application/vnd.google.colaboratory.intrinsic+json": {
              "type": "string"
            }
          },
          "metadata": {},
          "execution_count": 73
        }
      ]
    },
    {
      "cell_type": "code",
      "source": [],
      "metadata": {
        "colab": {
          "base_uri": "https://localhost:8080/",
          "height": 108
        },
        "id": "h87viyWGAQSr",
        "outputId": "f23c0dd7-d402-4e4d-e1dc-e7792a560840"
      },
      "execution_count": 74,
      "outputs": [
        {
          "output_type": "error",
          "ename": "SyntaxError",
          "evalue": "invalid syntax (<ipython-input-74-36335199c707>, line 5)",
          "traceback": [
            "\u001b[0;36m  File \u001b[0;32m\"<ipython-input-74-36335199c707>\"\u001b[0;36m, line \u001b[0;32m5\u001b[0m\n\u001b[0;31m    This notebook demonstrates basic operations on lists, tuples, and strings in Python.  It covers topics such as:\u001b[0m\n\u001b[0m         ^\u001b[0m\n\u001b[0;31mSyntaxError\u001b[0m\u001b[0;31m:\u001b[0m invalid syntax\n"
          ]
        }
      ]
    },
    {
      "cell_type": "code",
      "source": [],
      "metadata": {
        "id": "S5s6YwTXCE4V"
      },
      "execution_count": null,
      "outputs": []
    }
  ]
}